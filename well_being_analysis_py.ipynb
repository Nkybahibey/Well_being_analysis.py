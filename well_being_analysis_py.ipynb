{
  "nbformat": 4,
  "nbformat_minor": 0,
  "metadata": {
    "colab": {
      "provenance": [],
      "authorship_tag": "ABX9TyO2ZacOlHdu+rVdeAIRKS9E",
      "include_colab_link": true
    },
    "kernelspec": {
      "name": "python3",
      "display_name": "Python 3"
    },
    "language_info": {
      "name": "python"
    }
  },
  "cells": [
    {
      "cell_type": "markdown",
      "metadata": {
        "id": "view-in-github",
        "colab_type": "text"
      },
      "source": [
        "<a href=\"https://colab.research.google.com/github/Nkybahibey/Well_being_analysis.py/blob/main/well_being_analysis_py.ipynb\" target=\"_parent\"><img src=\"https://colab.research.google.com/assets/colab-badge.svg\" alt=\"Open In Colab\"/></a>"
      ]
    },
    {
      "cell_type": "code",
      "execution_count": 2,
      "metadata": {
        "id": "Xsya_dPspjaq"
      },
      "outputs": [],
      "source": [
        "#import library.\n",
        "import pandas as pd\n"
      ]
    },
    {
      "cell_type": "code",
      "source": [
        "#load dataset\n",
        "data = pd.read_csv('/content/Wellbeing_and_lifestyle_data_Kaggle.csv')"
      ],
      "metadata": {
        "id": "fi2HCvb3qTN5"
      },
      "execution_count": 3,
      "outputs": []
    },
    {
      "cell_type": "code",
      "source": [
        "#display first rows of dataset\n",
        "print(data.head())"
      ],
      "metadata": {
        "colab": {
          "base_uri": "https://localhost:8080/"
        },
        "id": "ilPA9GtLrCoW",
        "outputId": "270eeb82-562c-4e96-e939-3c75c5bca553"
      },
      "execution_count": 4,
      "outputs": [
        {
          "output_type": "stream",
          "name": "stdout",
          "text": [
            "  Timestamp  FRUITS_VEGGIES DAILY_STRESS  PLACES_VISITED  CORE_CIRCLE  \\\n",
            "0    7/7/15               3            2               2            5   \n",
            "1    7/7/15               2            3               4            3   \n",
            "2    7/7/15               2            3               3            4   \n",
            "3    7/7/15               3            3              10            3   \n",
            "4    7/7/15               5            1               3            3   \n",
            "\n",
            "   SUPPORTING_OTHERS  SOCIAL_NETWORK  ACHIEVEMENT  DONATION  BMI_RANGE  ...  \\\n",
            "0                  0               5            2         0          1  ...   \n",
            "1                  8              10            5         2          2  ...   \n",
            "2                  4              10            3         2          2  ...   \n",
            "3                 10               7            2         5          2  ...   \n",
            "4                 10               4            2         4          2  ...   \n",
            "\n",
            "   SLEEP_HOURS  LOST_VACATION  DAILY_SHOUTING  SUFFICIENT_INCOME  \\\n",
            "0            7              5               5                  1   \n",
            "1            8              2               2                  2   \n",
            "2            8             10               2                  2   \n",
            "3            5              7               5                  1   \n",
            "4            7              0               0                  2   \n",
            "\n",
            "   PERSONAL_AWARDS  TIME_FOR_PASSION  WEEKLY_MEDITATION         AGE  GENDER  \\\n",
            "0                4                 0                  5    36 to 50  Female   \n",
            "1                3                 2                  6    36 to 50  Female   \n",
            "2                4                 8                  3    36 to 50  Female   \n",
            "3                5                 2                  0  51 or more  Female   \n",
            "4                8                 1                  5  51 or more  Female   \n",
            "\n",
            "   WORK_LIFE_BALANCE_SCORE  \n",
            "0                    609.5  \n",
            "1                    655.6  \n",
            "2                    631.6  \n",
            "3                    622.7  \n",
            "4                    663.9  \n",
            "\n",
            "[5 rows x 24 columns]\n"
          ]
        }
      ]
    },
    {
      "cell_type": "code",
      "source": [
        "#clean dataset\n",
        "print(data.dtypes) #check data types of each column\n",
        "print(data.isnull().sum()) #checking for missing values\n",
        "data['WORK_LIFE_BALANCE_SCORE']=pd.to_numeric(data['WORK_LIFE_BALANCE_SCORE'],errors='coerce')#Convert 'WORK_LIFE_BALANCE_SCORE' to numeric\n",
        "data.dropna(subset=['WORK_LIFE_BALANCE_SCORE'],inplace=True)#drop rows with nan values in 'WORK_LIFE_BALANCE_SCORE"
      ],
      "metadata": {
        "colab": {
          "base_uri": "https://localhost:8080/"
        },
        "id": "-WU6xopqskX5",
        "outputId": "583dd189-509b-4cce-85c7-e876cf6a084c"
      },
      "execution_count": 15,
      "outputs": [
        {
          "output_type": "stream",
          "name": "stdout",
          "text": [
            "Timestamp                   object\n",
            "FRUITS_VEGGIES               int64\n",
            "DAILY_STRESS                object\n",
            "PLACES_VISITED               int64\n",
            "CORE_CIRCLE                  int64\n",
            "SUPPORTING_OTHERS            int64\n",
            "SOCIAL_NETWORK               int64\n",
            "ACHIEVEMENT                  int64\n",
            "DONATION                     int64\n",
            "BMI_RANGE                    int64\n",
            "TODO_COMPLETED               int64\n",
            "FLOW                         int64\n",
            "DAILY_STEPS                  int64\n",
            "LIVE_VISION                  int64\n",
            "SLEEP_HOURS                  int64\n",
            "LOST_VACATION                int64\n",
            "DAILY_SHOUTING               int64\n",
            "SUFFICIENT_INCOME            int64\n",
            "PERSONAL_AWARDS              int64\n",
            "TIME_FOR_PASSION             int64\n",
            "WEEKLY_MEDITATION            int64\n",
            "AGE                         object\n",
            "GENDER                      object\n",
            "WORK_LIFE_BALANCE_SCORE    float64\n",
            "dtype: object\n",
            "Timestamp                  0\n",
            "FRUITS_VEGGIES             0\n",
            "DAILY_STRESS               0\n",
            "PLACES_VISITED             0\n",
            "CORE_CIRCLE                0\n",
            "SUPPORTING_OTHERS          0\n",
            "SOCIAL_NETWORK             0\n",
            "ACHIEVEMENT                0\n",
            "DONATION                   0\n",
            "BMI_RANGE                  0\n",
            "TODO_COMPLETED             0\n",
            "FLOW                       0\n",
            "DAILY_STEPS                0\n",
            "LIVE_VISION                0\n",
            "SLEEP_HOURS                0\n",
            "LOST_VACATION              0\n",
            "DAILY_SHOUTING             0\n",
            "SUFFICIENT_INCOME          0\n",
            "PERSONAL_AWARDS            0\n",
            "TIME_FOR_PASSION           0\n",
            "WEEKLY_MEDITATION          0\n",
            "AGE                        0\n",
            "GENDER                     0\n",
            "WORK_LIFE_BALANCE_SCORE    0\n",
            "dtype: int64\n"
          ]
        }
      ]
    },
    {
      "cell_type": "code",
      "source": [
        "#Analyze correlation between attributes and work_life_balance_score\n",
        "#Extract numerical features for correlation analysis\n",
        "numerical_features = data.select_dtypes(include=['number'])\n",
        "\n",
        "correlation_matrix = numerical_features.corr()\n",
        "print(correlation_matrix['WORK_LIFE_BALANCE_SCORE'].sort_values(ascending=False))\n"
      ],
      "metadata": {
        "colab": {
          "base_uri": "https://localhost:8080/"
        },
        "id": "HWN2duIfruRR",
        "outputId": "36acdcca-4089-4fd8-c7bd-3197b23fe791"
      },
      "execution_count": 21,
      "outputs": [
        {
          "output_type": "stream",
          "name": "stdout",
          "text": [
            "WORK_LIFE_BALANCE_SCORE    1.000000\n",
            "ACHIEVEMENT                0.561244\n",
            "SUPPORTING_OTHERS          0.548851\n",
            "TODO_COMPLETED             0.545503\n",
            "PLACES_VISITED             0.529615\n",
            "TIME_FOR_PASSION           0.516967\n",
            "CORE_CIRCLE                0.507541\n",
            "PERSONAL_AWARDS            0.504224\n",
            "FLOW                       0.478199\n",
            "LIVE_VISION                0.471311\n",
            "DONATION                   0.458829\n",
            "FRUITS_VEGGIES             0.452255\n",
            "DAILY_STEPS                0.422981\n",
            "WEEKLY_MEDITATION          0.416171\n",
            "SOCIAL_NETWORK             0.412586\n",
            "SUFFICIENT_INCOME          0.403561\n",
            "SLEEP_HOURS                0.196395\n",
            "BMI_RANGE                 -0.251988\n",
            "LOST_VACATION             -0.266243\n",
            "DAILY_SHOUTING            -0.273153\n",
            "Name: WORK_LIFE_BALANCE_SCORE, dtype: float64\n"
          ]
        }
      ]
    },
    {
      "cell_type": "code",
      "source": [
        "#Identify key attributes that positively influence well-being\n",
        "positive_influence = correlation_matrix['WORK_LIFE_BALANCE_SCORE']\n",
        "[correlation_matrix['WORK_LIFE_BALANCE_SCORE']> 0.3]\n",
        "print(\"Key attributes  positively influencing well-being:\")\n",
        "print(positive_influence)"
      ],
      "metadata": {
        "colab": {
          "base_uri": "https://localhost:8080/"
        },
        "id": "_T0qdsXJr5hI",
        "outputId": "d54fa2f6-d91e-4da0-cbc7-a53edd95b3b7"
      },
      "execution_count": 22,
      "outputs": [
        {
          "output_type": "stream",
          "name": "stdout",
          "text": [
            "Key attributes  positively influencing well-being:\n",
            "FRUITS_VEGGIES             0.452255\n",
            "PLACES_VISITED             0.529615\n",
            "CORE_CIRCLE                0.507541\n",
            "SUPPORTING_OTHERS          0.548851\n",
            "SOCIAL_NETWORK             0.412586\n",
            "ACHIEVEMENT                0.561244\n",
            "DONATION                   0.458829\n",
            "BMI_RANGE                 -0.251988\n",
            "TODO_COMPLETED             0.545503\n",
            "FLOW                       0.478199\n",
            "DAILY_STEPS                0.422981\n",
            "LIVE_VISION                0.471311\n",
            "SLEEP_HOURS                0.196395\n",
            "LOST_VACATION             -0.266243\n",
            "DAILY_SHOUTING            -0.273153\n",
            "SUFFICIENT_INCOME          0.403561\n",
            "PERSONAL_AWARDS            0.504224\n",
            "TIME_FOR_PASSION           0.516967\n",
            "WEEKLY_MEDITATION          0.416171\n",
            "WORK_LIFE_BALANCE_SCORE    1.000000\n",
            "Name: WORK_LIFE_BALANCE_SCORE, dtype: float64\n"
          ]
        }
      ]
    },
    {
      "cell_type": "code",
      "source": [
        "#Set personal goals based on the identified attributes, track key influence\n",
        "#Create a function to track changes\n",
        "def track_progress(attribute, current_value,target_value):\n",
        "  if current_value < target_value:\n",
        "    return f\"Increase{attribute} to reach your goal of {target_value}.\"\n",
        "  else:\n",
        "    return f\"Great job! You are meeting your goal for {attribute}.\""
      ],
      "metadata": {
        "id": "7qcVsD9ewKlW"
      },
      "execution_count": 24,
      "outputs": []
    },
    {
      "cell_type": "code",
      "source": [
        "#e.g usage\n",
        "current_daily_steps = 42\n",
        "Target_daily_steps = 50\n",
        "print(track_progress('daily_steps',current_daily_steps,Target_daily_steps))"
      ],
      "metadata": {
        "colab": {
          "base_uri": "https://localhost:8080/"
        },
        "id": "-YTy-dw1yuiw",
        "outputId": "8c0bde22-1f03-4150-982d-f9bde34e86bb"
      },
      "execution_count": 29,
      "outputs": [
        {
          "output_type": "stream",
          "name": "stdout",
          "text": [
            "Increasedaily_steps to reach your goal of 50.\n"
          ]
        }
      ]
    },
    {
      "cell_type": "code",
      "source": [],
      "metadata": {
        "id": "SAHSTpgs-GnX"
      },
      "execution_count": null,
      "outputs": []
    }
  ]
}